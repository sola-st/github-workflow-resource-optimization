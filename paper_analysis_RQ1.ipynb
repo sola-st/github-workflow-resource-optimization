{
 "cells": [
  {
   "cell_type": "code",
   "execution_count": 1,
   "id": "bdb21d87",
   "metadata": {},
   "outputs": [],
   "source": [
    "import time\n",
    "import os\n",
    "\n",
    "from runs_collector.dataset import RunsDataSet\n",
    "from runs_analysis.resource_usage import (get_resource_usage_summary, \n",
    "                                          triggering_events_proportion, \n",
    "                                          triggering_events_time_proportion, \n",
    "                                          get_avg_runtime_by_event,\n",
    "                                          get_tiers,\n",
    "                                          calc_costs_by_event as calc_costs,\n",
    "                                          get_avg_runtime_rest)\n",
    "from runs_analysis.name_based_analysis import get_topk_jobs_names,  get_topk_jobs_time, simplify_and_map"
   ]
  },
  {
   "cell_type": "code",
   "execution_count": 2,
   "id": "d9d8ec76",
   "metadata": {},
   "outputs": [],
   "source": [
    "import warnings\n",
    "warnings.filterwarnings('ignore')"
   ]
  },
  {
   "cell_type": "markdown",
   "id": "bb72c403-008b-46be-947e-d32905d010b1",
   "metadata": {},
   "source": [
    "## Loading the data"
   ]
  },
  {
   "cell_type": "markdown",
   "id": "958fcdbf",
   "metadata": {},
   "source": [
    "* Loading the dataset takes around 1 minutes\n",
    "* The data size in RAM is around 9GB"
   ]
  },
  {
   "cell_type": "code",
   "execution_count": 4,
   "id": "c460b8d2-02f0-45ae-b0c4-53cc44af820f",
   "metadata": {},
   "outputs": [
    {
     "name": "stdout",
     "output_type": "stream",
     "text": [
      "Loading dataset from checkpoints\n",
      "Time taken to load the dataset: 63.0 seconds\n"
     ]
    }
   ],
   "source": [
    "start = time.time()\n",
    "\n",
    "data_set = RunsDataSet(None, None, from_checkpoint=True, checkpoint_dir=\"./\")\n",
    "\n",
    "end = time.time()\n",
    "\n",
    "print(\"Time taken to load the dataset:\", round(end - start, 0), \"seconds\")"
   ]
  },
  {
   "cell_type": "markdown",
   "id": "445e83be-3c51-4056-a03e-94fd723dfe3d",
   "metadata": {},
   "source": [
    "## Resource usage by event name (Table 1 in PDF)"
   ]
  },
  {
   "cell_type": "code",
   "execution_count": 5,
   "id": "c27dcfa4-3197-4810-a92b-216c05f91598",
   "metadata": {},
   "outputs": [],
   "source": [
    "repos_list_1, repos_list_2 = get_tiers(data_set)\n",
    "runs_prop_1 = triggering_events_proportion(data_set, repos_list_1)\n",
    "runs_prop_2 = triggering_events_proportion(data_set, repos_list_2)\n",
    "time_prop_1 = triggering_events_time_proportion(data_set, repos_list_1)\n",
    "time_prop_2 = triggering_events_time_proportion(data_set, repos_list_2)\n",
    "avg_time_1 = get_avg_runtime_by_event(data_set, repos_list_1)\n",
    "avg_time_2 = get_avg_runtime_by_event(data_set, repos_list_2)"
   ]
  },
  {
   "cell_type": "code",
   "execution_count": 9,
   "id": "53c8fa33-a173-4c52-ac8c-2a8ed331adaf",
   "metadata": {},
   "outputs": [],
   "source": [
    "def show_event_summary(event):\n",
    "    print(\"{:<30} {:<6} {:<6} {:<6} {:<6} {:<6} (iqr={:<6}) {:<6} (iqr={:<6}) {:<6} {:<6}\".format(\n",
    "        event,\n",
    "        round(time_prop_1[event], 1),\n",
    "        round(time_prop_2[event], 1),\n",
    "        round(runs_prop_1[event], 1),\n",
    "        round(runs_prop_2[event], 1),\n",
    "        round(avg_time_1[event][0], 1),\n",
    "        round(avg_time_1[event][-1], 1),\n",
    "        round(avg_time_2[event][0], 1),\n",
    "        round(avg_time_2[event][-1], 1),\n",
    "        round(calc_costs(avg_time_1[event][0], event), 2),\n",
    "        round(calc_costs(avg_time_2[event][0], event), 2)\n",
    "         ))"
   ]
  },
  {
   "cell_type": "code",
   "execution_count": 10,
   "id": "08822f7b",
   "metadata": {},
   "outputs": [],
   "source": [
    "def calc_others():\n",
    "    c1 = 0\n",
    "    c2 = 0\n",
    "    c3 = 0\n",
    "    c4 = 0\n",
    "    c5 = 0\n",
    "    c6 = 0\n",
    "    c7 = 0\n",
    "    c8 = 0\n",
    "    for event in [\"pull_request\", \"push\", \"schedule\", \"pull_request_target\", \"workflow_dispatch\", \"workflow_run\", \"release\"]:\n",
    "        c1 += round(time_prop_1[event], 1)\n",
    "        c2 += round(time_prop_2[event], 1)\n",
    "        c3 += round(runs_prop_1[event], 1)\n",
    "        c4 += round(runs_prop_2[event], 1)\n",
    "        \n",
    "    rest_2 = get_avg_runtime_rest(data_set, repos_list_2, \n",
    "                              [\"push\", \"pull_request\", \"target_pull_request\", \"schedule\", \"workflow_dispatch\", \"release\", \"workflow_run\"])\n",
    "    rest_1 = get_avg_runtime_rest(data_set, repos_list_1, \n",
    "                              [\"push\", \"pull_request\", \"target_pull_request\", \"schedule\", \"workflow_dispatch\", \"release\", \"workflow_run\"])\n",
    "    c5 = rest_1[0]\n",
    "    c6 = rest_1[-1]\n",
    "    c7 = rest_2[0]\n",
    "    c8 = rest_2[-1]\n",
    "    return 100- c1, 100 -c2, 100 - c3, 100 - c4, c5, c6, c7, c8   "
   ]
  },
  {
   "cell_type": "code",
   "execution_count": 11,
   "id": "ce535556-4406-4708-ad66-8c81ce484f2f",
   "metadata": {},
   "outputs": [
    {
     "name": "stdout",
     "output_type": "stream",
     "text": [
      "                                      Overall(%)                                Avg. per run                                    \n",
      "                              --------------------------------------------------------------------------------\n",
      "                                VM time         Runs          VM time (min)                      VM cost ($) \n",
      "                              --------------------------------------------------------------------------------\n",
      "Event                          Paid   Free   Paid   Free   Paid               Free               Paid   Free  \n",
      "--------------------------------------------------------------------------------------------------------------\n",
      "pull_request                   50.7   35.5   38.6   25.3   31.1   (iqr=20.1  ) 3.6    (iqr=3.6   ) 0.38   0.04  \n",
      "push                           30.9   47.8   26.4   28.6   28.4   (iqr=19.5  ) 4.3    (iqr=4.2   ) 0.35   0.05  \n",
      "schedule                       15.5   14.5   26.2   40.3   13.8   (iqr=1.3   ) 0.9    (iqr=0.2   ) 0.17   0.01  \n",
      "pull_request_target            1.2    0.6    4.2    1.4    8.5    (iqr=11.9  ) 1.2    (iqr=1.3   ) 0.1    0.01  \n",
      "workflow_dispatch              0.7    0.5    0.2    0.3    71.9   (iqr=24.9  ) 5.1    (iqr=4.4   ) 0.87   0.06  \n",
      "workflow_run                   0.7    0.0    0.7    0.4    23.2   (iqr=13.0  ) 0.1    (iqr=0.1   ) 0.28   0.0   \n",
      "release                        0.2    0.5    0.1    0.3    40.0   (iqr=15.0  ) 4.2    (iqr=5.9   ) 0.49   0.05  \n",
      "Others                         0.1    0.6    3.6    3.4    4.5    (iqr=1.4   ) 0.7    (iqr=0.6   ) 0.05   0.01  \n"
     ]
    }
   ],
   "source": [
    "print(\"{:<30} {:<48} {:<48}\".format(\n",
    "        \"\",\n",
    "        \"       Overall(%)\",\n",
    "        \"Avg. per run\",\n",
    "         ))\n",
    "print(\" \"*30 + \"-\"*80)\n",
    "print(\"{:<30} {:<15} {:<12} {:<36} {:<12}\".format(\n",
    "        \"\",\n",
    "        \" VM time\",\n",
    "        \" Runs\",\n",
    "        \"  VM time (min)\",\n",
    "        \"VM cost ($)\",\n",
    "         ))\n",
    "print(\" \"*30 + \"-\"*80)\n",
    "print(\"{:<30} {:<6} {:<6} {:<6} {:<6} {:<18} {:<18} {:<6} {:<6}\".format(\n",
    "        \"Event\",\n",
    "        \"Paid\",\n",
    "        \"Free\",\n",
    "        \"Paid\",\n",
    "        \"Free\",\n",
    "        \"Paid\",\n",
    "        \"Free\",\n",
    "        \"Paid\",\n",
    "        \"Free\"\n",
    "         ))\n",
    "print(\"-\"*110)\n",
    "for event in [\"pull_request\", \"push\", \"schedule\", \"pull_request_target\", \"workflow_dispatch\", \"workflow_run\", \"release\"]:\n",
    "    show_event_summary(event)\n",
    "\n",
    "others = calc_others()\n",
    "print(\"{:<30} {:<6} {:<6} {:<6} {:<6} {:<6} (iqr={:<6}) {:<6} (iqr={:<6}) {:<6} {:<6}\".format(\n",
    "        \"Others\",\n",
    "        round(others[0], 1),\n",
    "        round(others[1], 1),\n",
    "        round(others[2], 1),\n",
    "        round(others[3], 1),\n",
    "        round(others[4], 1),\n",
    "        round(others[5], 1),\n",
    "        round(others[6], 1),\n",
    "        round(others[7], 1),\n",
    "        round(calc_costs(others[4], \"others\"), 2),\n",
    "        round(calc_costs(others[6], \"others\"), 2)\n",
    "         ))"
   ]
  },
  {
   "cell_type": "markdown",
   "id": "9c6b2081-b765-4a57-b8f5-ec44dabbbe4e",
   "metadata": {},
   "source": [
    "## Resource usage by task (Table 2 in PDF)"
   ]
  },
  {
   "cell_type": "code",
   "execution_count": 9,
   "id": "0a84c37d-5d38-4fd1-9505-541588e9fe94",
   "metadata": {},
   "outputs": [],
   "source": [
    "top_k_jobs_1 = get_topk_jobs_names(data_set, repos_list_1, k=10).reset_index()\n",
    "top_k_jobs_2 = get_topk_jobs_names(data_set, repos_list_2, k=100).reset_index()"
   ]
  },
  {
   "cell_type": "code",
   "execution_count": 10,
   "id": "ccc4db4b-ba3e-42b7-8469-2947b704cd30",
   "metadata": {},
   "outputs": [],
   "source": [
    "all_runs = data_set.get_all_runs()\n",
    "all_runs_1 = all_runs[all_runs.repo_id.isin(repos_list_1)]\n",
    "all_runs_2 = all_runs[all_runs.repo_id.isin(repos_list_2)]\n",
    "all_jobs = data_set.get_all_jobs()\n",
    "\n",
    "all_jobs_1 = all_jobs[all_jobs.run_id.isin(all_runs_1.id)]\n",
    "all_jobs_2 = all_jobs[all_jobs.run_id.isin(all_runs_2.id)]\n",
    "\n",
    "top_k_jobs_1[\"prop\"] = top_k_jobs_1[\"count\"]/top_k_jobs_1[\"count\"].sum()\n",
    "top_k_jobs_2[\"prop\"] = top_k_jobs_2[\"count\"]/top_k_jobs_2[\"count\"].sum()\n",
    "\n",
    "top_k_jobs_names = top_k_jobs_1.job_name\n",
    "assert set(top_k_jobs_names) & set(top_k_jobs_2.job_name) == set(top_k_jobs_names)"
   ]
  },
  {
   "cell_type": "markdown",
   "id": "69d44a1f",
   "metadata": {},
   "source": [
    "### Calculating Proportions"
   ]
  },
  {
   "cell_type": "code",
   "execution_count": 11,
   "id": "79ca76e2",
   "metadata": {},
   "outputs": [],
   "source": [
    "top_k_jobs_1.sort_values([\"prop\"], ascending=False)\n",
    "paid_prop = {name: round(top_k_jobs_1[top_k_jobs_1.job_name==name][\"prop\"].to_list()[0]*100, 1) for name in top_k_jobs_names}\n",
    "sum_free = top_k_jobs_2[top_k_jobs_2.job_name.isin(top_k_jobs_names)][\"count\"].sum()\n",
    "free_prop = []\n",
    "free_prop = {name: round(top_k_jobs_2[top_k_jobs_2.job_name==name][\"count\"].to_list()[0]/sum_free*100, 1) for name in top_k_jobs_names}"
   ]
  },
  {
   "cell_type": "markdown",
   "id": "9eedd060-2c55-4807-a582-a808478d2c22",
   "metadata": {},
   "source": [
    "#### get_topk_jobs_time(data_set)"
   ]
  },
  {
   "cell_type": "code",
   "execution_count": 12,
   "id": "9b7587db-77c9-43b5-baeb-442cd6ff0ef5",
   "metadata": {},
   "outputs": [],
   "source": [
    "def get_topk_jobs_time(data_set, repos_list, k=10):\n",
    "    all_jobs = simplify_and_map(data_set, repos_list)\n",
    "    top_k = get_topk_jobs_names(data_set, repos_list, k=k)\n",
    "    top_tasks_jobs = all_jobs[all_jobs.sub_names.isin(top_k.job_name)]\n",
    "    top_tasks_jobs[\"up_time_min\"] = top_tasks_jobs.up_time/60\n",
    "    sum_time_tasks = top_tasks_jobs.groupby(\"sub_names\").up_time.agg([\"sum\"]).reset_index(\"sub_names\")\n",
    "    sum_time_tasks[\"prop\"] = sum_time_tasks[\"sum\"]/sum_time_tasks[\"sum\"].sum()*100\n",
    "    return sum_time_tasks"
   ]
  },
  {
   "cell_type": "code",
   "execution_count": 13,
   "id": "10fb8c05-13bf-442a-ae76-8561a6ea5063",
   "metadata": {},
   "outputs": [],
   "source": [
    "topk_jobs_time = get_topk_jobs_time(data_set, repos_list_1)"
   ]
  },
  {
   "cell_type": "markdown",
   "id": "4f3f94fc-9eac-4c75-a3cd-ea9efd5cb03d",
   "metadata": {},
   "source": [
    "### Average tasks time"
   ]
  },
  {
   "cell_type": "code",
   "execution_count": 14,
   "id": "ed696c91-0e64-43de-91b2-4df7071e0085",
   "metadata": {},
   "outputs": [],
   "source": [
    "tasks = [\"test\", \"build\", \"release\", \"analyze\", \"lint\", \"linux\", \"update\", \"integration\", \"deploy\", \"sync\"]\n",
    "all_jobs_1 = simplify_and_map(data_set, repos_list_1)\n",
    "all_jobs_2 = simplify_and_map(data_set, repos_list_2)\n",
    "\n",
    "all_jobs_1[\"up_time_min\"] = all_jobs_1.up_time / 60\n",
    "all_jobs_2[\"up_time_min\"] = all_jobs_2.up_time / 60"
   ]
  },
  {
   "cell_type": "code",
   "execution_count": 15,
   "id": "49e59770",
   "metadata": {},
   "outputs": [],
   "source": [
    "def calc_costs_by_task(time, task):\n",
    "    os_factor = 1.52\n",
    "    return time * os_factor * 0.008"
   ]
  },
  {
   "cell_type": "code",
   "execution_count": 16,
   "id": "71cdbf77-76f7-4175-aaf6-b415c211d9e7",
   "metadata": {},
   "outputs": [],
   "source": [
    "sum_t1 = sum([all_jobs_1[all_jobs_1.sub_names==t].up_time.sum() for t in tasks])\n",
    "sum_t2 = sum([all_jobs_2[all_jobs_2.sub_names==t].up_time.sum() for t in tasks])"
   ]
  },
  {
   "cell_type": "code",
   "execution_count": 17,
   "id": "9d2c0e5c-6f42-41ab-b766-772eb7a385ea",
   "metadata": {},
   "outputs": [],
   "source": [
    "total_runs_1 = all_jobs_1[all_jobs_1.sub_names.isin(tasks)].shape[0]\n",
    "total_runs_2 = all_jobs_2[all_jobs_2.sub_names.isin(tasks)].shape[0]"
   ]
  },
  {
   "cell_type": "code",
   "execution_count": 18,
   "id": "615e547c",
   "metadata": {},
   "outputs": [
    {
     "name": "stdout",
     "output_type": "stream",
     "text": [
      "                                      Overall(%)                                Avg. per run                                    \n",
      "                              --------------------------------------------------------------------------------\n",
      "                                 VM time        Runs          VM time (min)                      VM cost ($) \n",
      "                              --------------------------------------------------------------------------------\n",
      "Task                           Paid   Free   Paid   Free   Paid               Free               Paid   Free  \n",
      "--------------------------------------------------------------------------------------------------------------\n",
      "test                           54.6   37.3   50.9   36.2   8.1    (iqr=7.2   ) 1.5    (iqr=1.3   ) 0.1    0.02  \n",
      "build                          36.6   50.8   28.5   49.9   9.7    (iqr=8.4   ) 1.5    (iqr=1.3   ) 0.12   0.02  \n",
      "release                        3.5    1.3    2.4    2.0    11.0   (iqr=20.1  ) 1.0    (iqr=1.2   ) 0.13   0.01  \n",
      "analyze                        1.9    6.3    2.1    2.8    6.6    (iqr=5.6   ) 3.4    (iqr=2.4   ) 0.08   0.04  \n",
      "lint                           1.0    2.5    4.3    4.9    1.8    (iqr=1.7   ) 0.8    (iqr=0.4   ) 0.02   0.01  \n",
      "linux                          0.9    0.4    1.5    0.4    4.5    (iqr=1.8   ) 1.4    (iqr=1.6   ) 0.05   0.02  \n",
      "update                         0.7    0.2    5.8    0.5    1.0    (iqr=1.0   ) 0.7    (iqr=1.2   ) 0.01   0.01  \n",
      "integration                    0.4    0.8    1.2    0.5    2.6    (iqr=2.1   ) 2.4    (iqr=1.4   ) 0.03   0.03  \n",
      "deploy                         0.3    0.4    1.7    2.1    1.3    (iqr=1.5   ) 0.3    (iqr=0.2   ) 0.02   0.0   \n",
      "sync                           0.0    0.1    1.7    0.7    0.2    (iqr=0.0   ) 0.2    (iqr=0.1   ) 0.0    0.0   \n"
     ]
    }
   ],
   "source": [
    "print(\"{:<30} {:<48} {:<48}\".format(\n",
    "        \"\",\n",
    "        \"       Overall(%)\",\n",
    "        \"Avg. per run\",\n",
    "         ))\n",
    "print(\" \"*30 + \"-\"*80)\n",
    "print(\"{:<30} {:<15} {:<12} {:<36} {:<12}\".format(\n",
    "        \"\",\n",
    "        \"  VM time\",\n",
    "        \" Runs\",\n",
    "        \"  VM time (min)\",\n",
    "        \"VM cost ($)\",\n",
    "         ))\n",
    "print(\" \"*30 + \"-\"*80)\n",
    "print(\"{:<30} {:<6} {:<6} {:<6} {:<6} {:<18} {:<18} {:<6} {:<6}\".format(\n",
    "        \"Task\",\n",
    "        \"Paid\",\n",
    "        \"Free\",\n",
    "        \"Paid\",\n",
    "        \"Free\",\n",
    "        \"Paid\",\n",
    "        \"Free\",\n",
    "        \"Paid\",\n",
    "        \"Free\"\n",
    "         ))\n",
    "print(\"-\"*110)\n",
    "for t in tasks:\n",
    "        print(\"{:<30} {:<6} {:<6} {:<6} {:<6} {:<6} (iqr={:<6}) {:<6} (iqr={:<6}) {:<6} {:<6}\".format(\n",
    "                t,\n",
    "                round(all_jobs_1[all_jobs_1.sub_names==t].up_time.sum()/sum_t1*100, 1),\n",
    "                round(all_jobs_2[all_jobs_2.sub_names==t].up_time.sum()/sum_t2*100, 1),\n",
    "                round(all_jobs_1[all_jobs_1.sub_names==t].shape[0]/total_runs_1*100, 1),\n",
    "                round(all_jobs_2[all_jobs_2.sub_names==t].shape[0]/total_runs_2*100, 1),\n",
    "                round(all_jobs_1[all_jobs_1.sub_names==t].up_time_min.sum()/all_jobs_1[all_jobs_1.sub_names==t].shape[0], 1),\n",
    "                round(all_jobs_1[all_jobs_1.sub_names==t].up_time_min.quantile(0.75) - all_jobs_1[all_jobs_1.sub_names==t].up_time_min.quantile(0.25), 1),\n",
    "                round(all_jobs_2[all_jobs_2.sub_names==t].up_time_min.sum()/all_jobs_2[all_jobs_2.sub_names==t].shape[0], 1),\n",
    "                round(all_jobs_2[all_jobs_2.sub_names==t].up_time_min.quantile(0.75) - all_jobs_2[all_jobs_2.sub_names==t].up_time_min.quantile(0.25), 1),\n",
    "                round(calc_costs_by_task(round(all_jobs_1[all_jobs_1.sub_names==t].up_time_min.sum()/all_jobs_1[all_jobs_1.sub_names==t].shape[0], 1), t), 2),\n",
    "                round(calc_costs_by_task(round(all_jobs_2[all_jobs_2.sub_names==t].up_time_min.sum()/all_jobs_2[all_jobs_2.sub_names==t].shape[0], 1), t), 2)\n",
    "        ))"
   ]
  },
  {
   "cell_type": "markdown",
   "id": "294a4034-21e5-4a91-82b9-47bf722a0268",
   "metadata": {},
   "source": [
    "## Termination status (Table 3 in PDF)"
   ]
  },
  {
   "cell_type": "code",
   "execution_count": 19,
   "id": "76a80229-f2f1-4250-8d0f-abedd36f0f98",
   "metadata": {},
   "outputs": [],
   "source": [
    "all_runs = data_set.get_all_runs()\n",
    "all_jobs = data_set.get_all_jobs()\n",
    "\n",
    "all_runs_1 = all_runs[all_runs.repo_id.isin(repos_list_1)]\n",
    "all_jobs_1 = all_jobs[(all_jobs.run_id.isin(all_runs_1.id)) & (all_jobs.id!=3253494537)]\n",
    "\n",
    "\n",
    "all_runs_2 = all_runs[all_runs.repo_id.isin(repos_list_2)]\n",
    "all_jobs_2 = all_jobs[(all_jobs.run_id.isin(all_runs_2.id)) & (all_jobs.id!=3253494537)]\n",
    "\n",
    "conclusion_1 = all_runs_1.groupby(\"conclusion\").agg({\"id\": \"count\"}).reset_index()\n",
    "conclusion_2 = all_runs_2.groupby(\"conclusion\").agg({\"id\": \"count\"}).reset_index()\n",
    "conclusion_1[\"prop\"] = conclusion_1[\"id\"] * 100/conclusion_1[\"id\"].sum()\n",
    "conclusion_2[\"prop\"] = conclusion_2[\"id\"] * 100/conclusion_2[\"id\"].sum()"
   ]
  },
  {
   "cell_type": "code",
   "execution_count": 20,
   "id": "4d6a53e3-0e56-4754-8e3b-9a305fa1f9ae",
   "metadata": {},
   "outputs": [],
   "source": [
    "runs_with_time_1 = all_runs_1.merge(all_jobs_1[[\"run_id\", \"up_time\"]], left_on=\"id\", right_on=\"run_id\")\n",
    "runs_with_time_2 = all_runs_2.merge(all_jobs_2[[\"run_id\", \"up_time\"]], left_on=\"id\", right_on=\"run_id\")\n",
    "\n",
    "time_per_conclusion_1 = runs_with_time_1.groupby(\"conclusion\").agg({\"up_time\": \"sum\"}).reset_index()\n",
    "time_per_conclusion_1[\"prop\"] = time_per_conclusion_1[\"up_time\"]*100/time_per_conclusion_1.up_time.sum()\n",
    "\n",
    "time_per_conclusion_2 = runs_with_time_2.groupby(\"conclusion\").agg({\"up_time\": \"sum\"}).reset_index()\n",
    "time_per_conclusion_2[\"prop\"] = time_per_conclusion_2[\"up_time\"]*100/time_per_conclusion_2.up_time.sum()"
   ]
  },
  {
   "cell_type": "code",
   "execution_count": 21,
   "id": "c84fb010",
   "metadata": {},
   "outputs": [
    {
     "name": "stdout",
     "output_type": "stream",
     "text": [
      "                               Runs proportion %        VM time proportion %\n",
      "                              --------------------------------------------------\n",
      "Conclusion                     Paid         Free         Paid         Free        \n",
      "--------------------------------------------------------------------------------\n",
      "success                        78.7         88.9         66.4         81.1        \n",
      "failure                        17.4         10.0         30.9         18.0        \n",
      "skipped                        2.2          0.6          0.0          0.0         \n",
      "cancelled                      1.5          0.3          2.7          0.8         \n",
      "startup_failure                0.1          0.1          0.0          0.0         \n",
      "action_required                0.0          0.1          0.0          0.0         \n",
      "stale                          0.0          0.0          0.0          0.0         \n"
     ]
    }
   ],
   "source": [
    "print(\"{:<30} {:<24} {:<20}\".format(\n",
    "        \"\",\n",
    "        \"Runs proportion %\",\n",
    "        \"VM time proportion %\",\n",
    "         ))\n",
    "print(\" \"*30 + \"-\"*50)\n",
    "print(\"{:<30} {:<12} {:<12} {:<12} {:<12}\".format(\n",
    "        \"Conclusion\",\n",
    "        \"Paid\",\n",
    "        \"Free\",\n",
    "        \"Paid\",\n",
    "        \"Free\"\n",
    "         ))\n",
    "print(\"-\"*80)\n",
    "for c in [\"success\", \"failure\", \"skipped\", \"cancelled\", \"startup_failure\", \"action_required\", \"stale\"]:\n",
    "    print(\"{:<30} {:<12} {:<12} {:<12} {:<12}\".format(\n",
    "        c,\n",
    "        round(conclusion_1[conclusion_1.conclusion==c].prop.to_list()[0], 1),\n",
    "        round(conclusion_2[conclusion_2.conclusion==c].prop.to_list()[0], 1),\n",
    "        round(time_per_conclusion_1[time_per_conclusion_1.conclusion==c].prop.to_list()[0], 1),\n",
    "        round(time_per_conclusion_2[time_per_conclusion_2.conclusion==c].prop.to_list()[0], 1)\n",
    "         ))"
   ]
  }
 ],
 "metadata": {
  "kernelspec": {
   "display_name": "Python 3 (ipykernel)",
   "language": "python",
   "name": "python3"
  },
  "language_info": {
   "codemirror_mode": {
    "name": "ipython",
    "version": 3
   },
   "file_extension": ".py",
   "mimetype": "text/x-python",
   "name": "python",
   "nbconvert_exporter": "python",
   "pygments_lexer": "ipython3",
   "version": "3.10.11"
  }
 },
 "nbformat": 4,
 "nbformat_minor": 5
}
