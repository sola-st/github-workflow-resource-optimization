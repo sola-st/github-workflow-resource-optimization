{
 "cells": [
  {
   "cell_type": "code",
   "execution_count": 1,
   "metadata": {},
   "outputs": [],
   "source": [
    "from runs_collector.runs_scraper import scrape_runs\n",
    "import pandas as pd\n",
    "import os\n",
    "from runs_collector.data_tables import construct_repo_tables\n",
    "import random"
   ]
  },
  {
   "cell_type": "code",
   "execution_count": 7,
   "metadata": {},
   "outputs": [],
   "source": [
    "scraped_repos = os.listdir(\"repositories_runs\")\n",
    "scraped_repos = [repo[:-5].replace(\"#####\", \"/\") for repo in scraped_repos]"
   ]
  },
  {
   "cell_type": "code",
   "execution_count": null,
   "metadata": {},
   "outputs": [],
   "source": [
    "df = pd.read_csv(\"repositories.csv\")"
   ]
  },
  {
   "cell_type": "code",
   "execution_count": null,
   "metadata": {
    "scrolled": true,
    "tags": []
   },
   "outputs": [],
   "source": [
    "df_sample = df.sample(frac=0.001)\n",
    "repos_list = df_sample[\"repository\"].to_list()\n",
    "repos_list = [r for r in repos_list if r not in scraped_repos]\n",
    "print(\"Starting scraping {0} projects\".format(len(repos_list)))\n",
    "scrape_runs(repos_list, exit=False)"
   ]
  },
  {
   "cell_type": "code",
   "execution_count": null,
   "metadata": {
    "scrolled": true,
    "tags": []
   },
   "outputs": [],
   "source": [
    "import logging\n",
    "\n",
    "list_repos = os.listdir(\"repositories_runs\")\n",
    "list_repos = [repo[:-5] for repo in list_repos]\n",
    "processed_repos = os.listdir(\"tables\")\n",
    "random.shuffle(list_repos)  \n",
    "random.shuffle(list_repos)\n",
    "print(\"unprocessed repos:\", len(list_repos) - len(processed_repos))\n",
    "\n",
    "\n",
    "next_token = 1\n",
    "for repo in list_repos:\n",
    "    if repo not in processed_repos and repo!=\".ipynb_checkp\":\n",
    "        #try:\n",
    "        print(\"constructing tables for repository: {} \".format(repo))\n",
    "        contruct_repo_tables(repo)\n",
    "        #except Exception as e:\n",
    "        #    print(e)\n",
    "        #    print(repo)\n",
    "        #    os.system(\"rm repositories_runs/{0}\".format(repo+\".json\"))"
   ]
  }
 ],
 "metadata": {
  "kernelspec": {
   "display_name": "Python 3 (ipykernel)",
   "language": "python",
   "name": "python3"
  },
  "language_info": {
   "codemirror_mode": {
    "name": "ipython",
    "version": 3
   },
   "file_extension": ".py",
   "mimetype": "text/x-python",
   "name": "python",
   "nbconvert_exporter": "python",
   "pygments_lexer": "ipython3",
   "version": "3.9.16"
  },
  "vscode": {
   "interpreter": {
    "hash": "ccfd52182f40f8a9d975487727123e4ab9e7f0a280b00564c106ca41ceaf0fe2"
   }
  }
 },
 "nbformat": 4,
 "nbformat_minor": 4
}
